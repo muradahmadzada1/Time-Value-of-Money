{
 "cells": [
  {
   "cell_type": "markdown",
   "metadata": {
    "deletable": false,
    "editable": false
   },
   "source": [
    "<h2>FIN5615 Project #1\n",
    "    <p class=\"text-primary\">Time Value of Money</p>\n",
    "</h2>"
   ]
  },
  {
   "cell_type": "markdown",
   "metadata": {
    "deletable": false,
    "editable": false
   },
   "source": [
    "<div class = \"panel panel-success\">\n",
    "    <div class = \"panel-heading\"> \n",
    "    <span style=\"color:black\"><b>Project Introduction</b>\n",
    "    </div>\n",
    "    <div class = \"panel-body\"> \n",
    "    In this project we will examine the time value of money and the mechanics of discounting future cashflows to present day. We will then attempt to apply these concepts to valuing bonds and equities.\n",
    "    </div>\n",
    "</div>\n",
    "\n",
    "<div class = \"panel panel-info\">\n",
    "    <div class = \"panel-heading\"> \n",
    "    <span style=\"color:black\"><b>Instructions</b>\n",
    "    </div>\n",
    "    <div class = \"panel-body\"> \n",
    "    Please code you solutions directly in this Notebook under each task in the cells provided below. Tasks are intended to be done in order with results from one task informing work in later tasks. Include all code used to produce your results, and support your answers with textual explanations if neccessary. <b>Any written text must be typed in a markdown cell to receive credit!</b> You may feel free to add additional Code and/or Markdown cells as needed. Code must be written using <b>Python 3</b>.\n",
    "    <br><br>Please order the cells in your Notebook in the order in which they are intended to run! It is expected that your Notebook is able to run in sequence from start to finish without any errors (before submitting check by: <code>Kernel > Restart & Run All</code>).\n",
    "    <br><br>Once ready, please submit your assignment as an <b>.ipynb file</b> (<code>File > Download as > Notebook</code>). You must name your files in the following format: <b><code>FIN5615_Project_1_Richard_Lee_tuc12345.ipynb</code></b>.\n",
    "    </div>\n",
    "</div>\n",
    "\n",
    "---\n",
    "<div class = \"alert alert-block alert-warning\">\n",
    "    <b>Note</b>: Import all libraries that you plan on using in the code block below.\n",
    "</div>"
   ]
  },
  {
   "cell_type": "code",
   "execution_count": 1,
   "metadata": {
    "tags": []
   },
   "outputs": [
    {
     "name": "stdout",
     "output_type": "stream",
     "text": [
      "Requirement already satisfied: numpy-financial in /opt/anaconda3/lib/python3.9/site-packages (1.0.0)\n",
      "Requirement already satisfied: numpy>=1.15 in /opt/anaconda3/lib/python3.9/site-packages (from numpy-financial) (1.21.5)\n"
     ]
    }
   ],
   "source": [
    "import numpy as np\n",
    "\n",
    "!pip install numpy-financial\n",
    "import numpy_financial as npf\n"
   ]
  },
  {
   "cell_type": "markdown",
   "metadata": {},
   "source": [
    "# Installing numpy-financial in order to use PV and NPV functions "
   ]
  },
  {
   "cell_type": "code",
   "execution_count": 2,
   "metadata": {
    "tags": []
   },
   "outputs": [
    {
     "data": {
      "text/plain": [
       "['fv', 'ipmt', 'irr', 'mirr', 'nper', 'npv', 'pmt', 'ppmt', 'pv', 'rate']"
      ]
     },
     "execution_count": 2,
     "metadata": {},
     "output_type": "execute_result"
    }
   ],
   "source": [
    "[function for function in dir(npf) if not function.startswith('_')]"
   ]
  },
  {
   "cell_type": "markdown",
   "metadata": {
    "deletable": false,
    "editable": false
   },
   "source": [
    "<div class = \"panel panel-primary\">\n",
    "    <div class = \"panel-heading\"> \n",
    "    <span style=\"color:white\"><b>Task 1</b>\n",
    "    </div>\n",
    "    <div class = \"panel-body\"> \n",
    "    Time value of money is the concept that receiving a cashflow today is worth more than receiving the same amount at a future date. We can compare cashflows of differing time values by calculating and comparing their present values.\n",
    "    <br><br>Recall that the formula to calculate the present value of a cashflow <i>CF</i> at time <i>t</i> assuming annual compounding at rate <i>r</i> is: \n",
    "    <br><br>\n",
    "    $$PV = \\frac{CF}{(1 + r)^t}$$\n",
    "    <br>Compute the present value of a cashflow based on the inputs below. \n",
    "    <br><br>Check that your answer should be approximately \\$90.70.\n",
    "    <p style=\"text-align:right;\">[5pts]</p>\n",
    "    </div>\n",
    "</div>"
   ]
  },
  {
   "cell_type": "markdown",
   "metadata": {
    "tags": []
   },
   "source": [
    "###Use code below\n",
    "CF = 100.\n",
    "rate = .05\n",
    "t = 2\n",
    "\n",
    "### The function for Present Value of Cashflow shown below\n",
    "PV = npf.pv(rate,t,0, -CF)\n",
    "print(PV)\n"
   ]
  },
  {
   "cell_type": "markdown",
   "metadata": {
    "deletable": false,
    "editable": false
   },
   "source": [
    "<div class = \"panel panel-primary\">\n",
    "    <div class = \"panel-heading\"> \n",
    "    <span style=\"color:white\"><b>Task 2</b>\n",
    "    </div>\n",
    "    <div class = \"panel-body\"> \n",
    "    The present value formula can be modified to account for periodic compounding at some m-thly frequency:\n",
    "    <br><br>\n",
    "    $$PV = \\frac{CF}{\\left(1 + \\frac{r}{m}\\right)^{mt}}$$\n",
    "    <br>Assuming the same inputs as the previous task, now include a new variable *m* with a value of 12 representing monthly compounding. Calculate the cashflow's present value given monthly compounding. \n",
    "    <br><br>Check that your answer should be approximately \\$90.50.\n",
    "    <p style=\"text-align:right;\">[10pts]</p>\n",
    "    </div>\n",
    "</div>"
   ]
  },
  {
   "cell_type": "code",
   "execution_count": 3,
   "metadata": {},
   "outputs": [
    {
     "name": "stdout",
     "output_type": "stream",
     "text": [
      "90.5025423358517\n"
     ]
    }
   ],
   "source": [
    "CF = 100\n",
    "rate = 0.05\n",
    "### Finding monthly interest rate we should divide 0.05 by 12 which gives r\n",
    "r = 0.05/12\n",
    "t = 2\n",
    "m = 12\n",
    "### Total number of periods that used for the PV we shoudl multiply 2 by 12 which gives T\n",
    "T = m*t\n",
    "PV = npf.pv(r,T,0, -CF)\n",
    "print(PV)"
   ]
  },
  {
   "cell_type": "markdown",
   "metadata": {
    "deletable": false,
    "editable": false,
    "tags": []
   },
   "source": [
    "<div class = \"panel panel-primary\">\n",
    "    <div class = \"panel-heading\"> \n",
    "    <span style=\"color:white\"><b>Task 3</b>\n",
    "    </div>\n",
    "    <div class = \"panel-body\"> \n",
    "    Calculate the cashflow's present value under daily compounding. \n",
    "    <br><br>Check that your answer should be approximately \\$90.48.\n",
    "    <br><br>Answer the following questions:\n",
    "    <ul>\n",
    "        <li>What happens to the present value as we increase the compounding frequency? Why?</li>\n",
    "        <li>What will happen if we increase the compounding frequency to infinity (or some extremely large number)?</li>\n",
    "    </ul>\n",
    "    <p style=\"text-align:right;\">[15pts]</p>\n",
    "    </div>\n",
    "</div>"
   ]
  },
  {
   "cell_type": "code",
   "execution_count": 4,
   "metadata": {
    "tags": []
   },
   "outputs": [
    {
     "name": "stdout",
     "output_type": "stream",
     "text": [
      "90.4843615007843\n"
     ]
    }
   ],
   "source": [
    "CF = 100\n",
    "rate = 0.05\n",
    "### Finding daily interest rate we should divided 0.05 by 365 which gives r\n",
    "r = 0.05/365\n",
    "t = 2\n",
    "m = 365\n",
    "### Total number of periods that used for the PV we shoudl multiply 2 by 365 which gives T\n",
    "T = m*t\n",
    "\n",
    "PV = npf.pv(r,T,0, -CF)\n",
    "print(PV)"
   ]
  },
  {
   "cell_type": "markdown",
   "metadata": {},
   "source": [
    "Answers to the questions : \n",
    "When frequency of compounding grows, the present value actually decreases whereas the future value gains benefit. So, a higher compounding frequency reduces the present value. The reason is more compound interest is earned reduces the amount that must be saved today to be worth a specified sum in the future. \n",
    "So, when we increase the compounding frequency to large numbers it means more compound interest is earned and it decreases present value of money.\n",
    "\n"
   ]
  },
  {
   "cell_type": "markdown",
   "metadata": {
    "deletable": false,
    "editable": false,
    "tags": []
   },
   "source": [
    "<div class = \"panel panel-primary\">\n",
    "    <div class = \"panel-heading\"> \n",
    "    <span style=\"color:white\"><b>Task 4</b>\n",
    "    </div>\n",
    "    <div class = \"panel-body\"> \n",
    "    Recall the formula for calculating present value under continuous compounding:\n",
    "    <br><br>\n",
    "    $$PV = CF * e^{-rt}$$\n",
    "    <br>Using the same inputs thus far, calculate the cashflow's present value under continuous compounding.\n",
    "    <br><br>Check that your answer should be approximately \\$90.48.\n",
    "    <p style=\"text-align:right;\">[15pts]</p>\n",
    "    </div>\n",
    "</div>"
   ]
  },
  {
   "cell_type": "code",
   "execution_count": 5,
   "metadata": {
    "tags": []
   },
   "outputs": [
    {
     "name": "stdout",
     "output_type": "stream",
     "text": [
      "90.48374180359595\n"
     ]
    }
   ],
   "source": [
    "PV = CF * np.e**(-r*T)\n",
    "print(PV)"
   ]
  },
  {
   "cell_type": "markdown",
   "metadata": {
    "deletable": false,
    "editable": false
   },
   "source": [
    "<div class = \"panel panel-primary\">\n",
    "    <div class = \"panel-heading\"> \n",
    "    <span style=\"color:white\"><b>Task 5</b>\n",
    "    </div>\n",
    "    <div class = \"panel-body\"> \n",
    "    Recall that the net present value of a stream of cashflows is simply the sum of the present values of each individual cashflow:\n",
    "    <br><br>\n",
    "    $$NPV = \\sum_{t}PV(CF_t)$$\n",
    "    <br>Calculate the net present value for the following cashflows at years 1, 2, and 5 of \\$100, \\$110, and \\$200, respectively. Assume annual compounding at a rate of 2%.\n",
    "    <br><br>Check that your answer should be approximately \\$384.91.\n",
    "    <p style=\"text-align:right;\">[15pts]</p>\n",
    "    </div>\n",
    "</div>"
   ]
  },
  {
   "cell_type": "code",
   "execution_count": 6,
   "metadata": {},
   "outputs": [
    {
     "name": "stdout",
     "output_type": "stream",
     "text": [
      "384.91394358843604\n"
     ]
    }
   ],
   "source": [
    "### Initial investment is 0 and cashflows for years 3 and 4 are also zero. Cashflows are given in CF\n",
    "CF  = [0,100,110,0,0,200]\n",
    "rate = 0.02\n",
    "\n",
    "### Finding NPV of these cashflows we use npf.npv function which includes both rate and cashflows\n",
    "\n",
    "PV = npf.npv(rate,CF)\n",
    "print(PV)"
   ]
  },
  {
   "cell_type": "markdown",
   "metadata": {
    "deletable": false,
    "editable": false,
    "tags": []
   },
   "source": [
    "<div class = \"panel panel-primary\">\n",
    "    <div class = \"panel-heading\"> \n",
    "    <span style=\"color:white\"><b>Task 6</b>\n",
    "    </div>\n",
    "    <div class = \"panel-body\"> \n",
    "    The price of a risk-free coupon bearing bond is simply the NPV of its future generated cashflow stream. But given the consistent periodic coupon payments, we can treat the coupons as an annuity and simplify the NPV formula: \n",
    "    <br><br>\n",
    "    $$B = F \\left(\\frac{c}{m}\\right)\\frac{1 - \\left(1 + \\frac{r}{m}\\right)^{-mT}}{\\frac{r}{m}}  + F\\left(1 + \\frac{r}{m}\\right)^{-mT}$$\n",
    "    <br>Where $B$ is the bond price, $F$ is the face amount, $m$ is the coupon payment frequency, $T$ is the maturity, and interest rate $r$.\n",
    "    <br><br>Apply this formula to calculate the price of a bond with \\$1000 face value, maturing in 30 years, paying a semi-annual coupon of 4.5%, assuming a constant risk-free interest rate of 2%.\n",
    "    <br><br>Check that your answer should be approximately \\$1561.94.\n",
    "    <br><br>Answer the following questions: \n",
    "    <ul>\n",
    "        <li>Is this a premium or a discount bond?</li>\n",
    "        <li>What might cause this bond to trade at a market price that is different from this calculated price?</li>\n",
    "    </ul>\n",
    "    <p style=\"text-align:right;\">[20pts]</p>\n",
    "    </div>\n",
    "</div>"
   ]
  },
  {
   "cell_type": "code",
   "execution_count": 7,
   "metadata": {
    "tags": []
   },
   "outputs": [
    {
     "name": "stdout",
     "output_type": "stream",
     "text": [
      "1561.9379800778004\n"
     ]
    }
   ],
   "source": [
    "F = 1000\n",
    "T = 30\n",
    "r = 0.02\n",
    "m=2\n",
    "c= 0.045\n",
    "\n",
    "B = F*(c/m)*(1-(1+r/m)**(-m*T))/(r/m)+F*(1+r/m)**(-m*T)\n",
    "print(B)"
   ]
  },
  {
   "cell_type": "markdown",
   "metadata": {},
   "source": [
    "It is a premium discount bond because the value of bond is higher than face value ($1,000) which means that it is selling at a premium.\n",
    "There are couple factors that affect bond's price such as market interest rate, the issuer's credit rating, inflation, the time to maturity.\n"
   ]
  },
  {
   "cell_type": "markdown",
   "metadata": {
    "deletable": false,
    "editable": false
   },
   "source": [
    "<div class = \"panel panel-primary\">\n",
    "    <div class = \"panel-heading\"> \n",
    "    <span style=\"color:white\"><b>Task 7</b>\n",
    "    </div>\n",
    "    <div class = \"panel-body\"> \n",
    "    Recall that the dividend discount model is a stock valuation model that attempts to value a stock as if it was a bond, based on its dividends. It assumes that a company will continue to pay its dividend uninterrupted in perpituity, and that the stock price is simply the sum of all of its future dividend payments, discounted back to their present value:\n",
    "    <br><br>\n",
    "    $$P = \\frac{D_1}{r - g}$$\n",
    "    <br>Where $P$ is the stock price, $D$ is the company's annual dividend payment in the next year, and $r$ is the company's cost of capital, and $g$ is the expected dividend growth rate.\n",
    "    <br><br>As of June 2020, AAPL paid an annual dividend \\$3.28 with a most recent dividend growth rate of 6.49%, and an estimated cost of capital of 9%. According to the dividend discount model, what is the value of AAPL stock?\n",
    "    <br><br>Check that your answer should be approximately \\$139.16.\n",
    "    <br><br>How does that compare with the market price of AAPL ($364.8 as of June 2020). What are some shortcomings of the dividend discount model? How would the dividend discount model value TSLA?\n",
    "    <p style=\"text-align:right;\">[20pts]</p>\n",
    "    </div>\n",
    "</div>"
   ]
  },
  {
   "cell_type": "code",
   "execution_count": 8,
   "metadata": {},
   "outputs": [
    {
     "name": "stdout",
     "output_type": "stream",
     "text": [
      "139.1582470119522\n"
     ]
    }
   ],
   "source": [
    "D = 3.28\n",
    "D1 = 3.28*1.0649\n",
    "r = 0.09\n",
    "g = 0.0649\n",
    "P = D1/(r-g)\n",
    "print(P)"
   ]
  },
  {
   "cell_type": "markdown",
   "metadata": {},
   "source": [
    "There are some shortcomings that dividend discount model has. Firstly, DDM requires some assumptions such as growth rate, the required rate of return, and tax rate. Secondly, DDM ignores the effects of stock buybacks. Those effects can make a vast difference in regard to stock value being returned to shareholders. So that is the reason why we got different share price when we used DDM.\n",
    "\n",
    "According to 10-K report of Tesla, DPS for prior year is 0. It means Tesla does not pay dividends to their shareholders. So, we can't value the stock using DDM.  \n",
    "\n"
   ]
  }
 ],
 "metadata": {
  "kernelspec": {
   "display_name": "Python 3 (ipykernel)",
   "language": "python",
   "name": "python3"
  },
  "language_info": {
   "codemirror_mode": {
    "name": "ipython",
    "version": 3
   },
   "file_extension": ".py",
   "mimetype": "text/x-python",
   "name": "python",
   "nbconvert_exporter": "python",
   "pygments_lexer": "ipython3",
   "version": "3.9.12"
  }
 },
 "nbformat": 4,
 "nbformat_minor": 4
}
